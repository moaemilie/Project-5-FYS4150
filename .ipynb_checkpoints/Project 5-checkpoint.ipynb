{
 "cells": [
  {
   "cell_type": "markdown",
   "id": "a1410480",
   "metadata": {},
   "source": [
    "# Project 5"
   ]
  },
  {
   "cell_type": "code",
   "execution_count": 33,
   "id": "378078a0",
   "metadata": {},
   "outputs": [
    {
     "data": {
      "text/html": [
       "<style type=\"text/css\">\n",
       "#T_c6e90_row0_col0, #T_c6e90_row1_col0, #T_c6e90_row2_col0, #T_c6e90_row3_col0 {\n",
       "  background-color: pink;\n",
       "  color: red;\n",
       "}\n",
       "</style>\n",
       "<table id=\"T_c6e90\">\n",
       "  <thead>\n",
       "    <tr>\n",
       "      <th class=\"blank level0\" >&nbsp;</th>\n",
       "      <th id=\"T_c6e90_level0_col0\" class=\"col_heading level0 col0\" >0</th>\n",
       "    </tr>\n",
       "  </thead>\n",
       "  <tbody>\n",
       "    <tr>\n",
       "      <th id=\"T_c6e90_level0_row0\" class=\"row_heading level0 row0\" >0</th>\n",
       "      <td id=\"T_c6e90_row0_col0\" class=\"data row0 col0\" >9.9999999999999223e-01+0.0000000000000000e+00i</td>\n",
       "    </tr>\n",
       "    <tr>\n",
       "      <th id=\"T_c6e90_level0_row1\" class=\"row_heading level0 row1\" >1</th>\n",
       "      <td id=\"T_c6e90_row1_col0\" class=\"data row1 col0\" >9.9999999999999434e-01+0.0000000000000000e+00i</td>\n",
       "    </tr>\n",
       "    <tr>\n",
       "      <th id=\"T_c6e90_level0_row2\" class=\"row_heading level0 row2\" >2</th>\n",
       "      <td id=\"T_c6e90_row2_col0\" class=\"data row2 col0\" >9.9999999999999412e-01+0.0000000000000000e+00i</td>\n",
       "    </tr>\n",
       "    <tr>\n",
       "      <th id=\"T_c6e90_level0_row3\" class=\"row_heading level0 row3\" >3</th>\n",
       "      <td id=\"T_c6e90_row3_col0\" class=\"data row3 col0\" >9.9999999999999201e-01+0.0000000000000000e+00i</td>\n",
       "    </tr>\n",
       "  </tbody>\n",
       "</table>\n"
      ],
      "text/plain": [
       "<pandas.io.formats.style.Styler at 0x15f771340>"
      ]
     },
     "execution_count": 33,
     "metadata": {},
     "output_type": "execute_result"
    }
   ],
   "source": [
    "import pandas as pd\n",
    "data = pd.read_csv(\"model1.csv\", header=None)\n",
    "data.style.set_properties(**{'background-color': 'pink',\n",
    "                           'color': 'red'})"
   ]
  },
  {
   "cell_type": "code",
   "execution_count": 50,
   "id": "3724d618",
   "metadata": {},
   "outputs": [
    {
     "data": {
      "text/plain": [
       "[7.771561172376096e-15,\n",
       " 5.662137425588298e-15,\n",
       " 5.88418203051333e-15,\n",
       " 7.993605777301127e-15]"
      ]
     },
     "execution_count": 50,
     "metadata": {},
     "output_type": "execute_result"
    }
   ],
   "source": [
    "\n",
    "result = []\n",
    "\n",
    "for i in range(len(data.iloc[:,0])):\n",
    "    result.append(1-float(data.iloc[i,0].split(\"+\")[0]))\n",
    "result"
   ]
  },
  {
   "cell_type": "code",
   "execution_count": 57,
   "id": "7cde2225",
   "metadata": {},
   "outputs": [
    {
     "data": {
      "text/html": [
       "<div>\n",
       "<style scoped>\n",
       "    .dataframe tbody tr th:only-of-type {\n",
       "        vertical-align: middle;\n",
       "    }\n",
       "\n",
       "    .dataframe tbody tr th {\n",
       "        vertical-align: top;\n",
       "    }\n",
       "\n",
       "    .dataframe thead th {\n",
       "        text-align: right;\n",
       "    }\n",
       "</style>\n",
       "<table border=\"1\" class=\"dataframe\">\n",
       "  <thead>\n",
       "    <tr style=\"text-align: right;\">\n",
       "      <th></th>\n",
       "      <th>0</th>\n",
       "    </tr>\n",
       "  </thead>\n",
       "  <tbody>\n",
       "    <tr>\n",
       "      <th>0</th>\n",
       "      <td>7.771561e-15</td>\n",
       "    </tr>\n",
       "    <tr>\n",
       "      <th>1</th>\n",
       "      <td>5.662137e-15</td>\n",
       "    </tr>\n",
       "    <tr>\n",
       "      <th>2</th>\n",
       "      <td>5.884182e-15</td>\n",
       "    </tr>\n",
       "    <tr>\n",
       "      <th>3</th>\n",
       "      <td>7.993606e-15</td>\n",
       "    </tr>\n",
       "  </tbody>\n",
       "</table>\n",
       "</div>"
      ],
      "text/plain": [
       "              0\n",
       "0  7.771561e-15\n",
       "1  5.662137e-15\n",
       "2  5.884182e-15\n",
       "3  7.993606e-15"
      ]
     },
     "execution_count": 57,
     "metadata": {},
     "output_type": "execute_result"
    }
   ],
   "source": [
    "df = pd.DataFrame(result)"
   ]
  },
  {
   "cell_type": "code",
   "execution_count": 60,
   "id": "502f5e2b",
   "metadata": {},
   "outputs": [
    {
     "data": {
      "text/plain": [
       "[<matplotlib.lines.Line2D at 0x15dee7ee0>]"
      ]
     },
     "execution_count": 60,
     "metadata": {},
     "output_type": "execute_result"
    },
    {
     "data": {
      "image/png": "[encoded data removed]",
      "text/plain": [
       "<Figure size 432x288 with 1 Axes>"
      ]
     },
     "metadata": {
      "needs_background": "light"
     },
     "output_type": "display_data"
    }
   ],
   "source": [
    "import matplotlib.pyplot as plt\n",
    "\n",
    "plt.plot(df[0])"
   ]
  },
  {
   "cell_type": "code",
   "execution_count": null,
   "id": "eb934bdd",
   "metadata": {},
   "outputs": [],
   "source": []
  }
 ],
 "metadata": {
  "kernelspec": {
   "display_name": "Python 3 (ipykernel)",
   "language": "python",
   "name": "python3"
  },
  "language_info": {
   "codemirror_mode": {
    "name": "ipython",
    "version": 3
   },
   "file_extension": ".py",
   "mimetype": "text/x-python",
   "name": "python",
   "nbconvert_exporter": "python",
   "pygments_lexer": "ipython3",
   "version": "3.9.12"
  }
 },
 "nbformat": 4,
 "nbformat_minor": 5
}
